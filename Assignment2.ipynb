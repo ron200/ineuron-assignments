{
 "cells": [
  {
   "cell_type": "markdown",
   "metadata": {},
   "source": [
    "### Create the below pattern using nested for loop in Python."
   ]
  },
  {
   "cell_type": "code",
   "execution_count": 53,
   "metadata": {},
   "outputs": [
    {
     "name": "stdout",
     "output_type": "stream",
     "text": [
      "* \n",
      "* * \n",
      "* * * \n",
      "* * * * \n",
      "* * * * * \n",
      "* * * * \n",
      "* * * \n",
      "* * \n",
      "* \n"
     ]
    }
   ],
   "source": [
    "n=5\n",
    "i=0\n",
    "for i in range(i,n):\n",
    "    for j in range(0, i+1):\n",
    "        print(\"*\",end=\" \") \n",
    "       \n",
    "    print()\n",
    "n=4\n",
    "i=0\n",
    "for i in range(n,i,-1):\n",
    "    for j in range(0, i):\n",
    "        print(\"*\",end=\" \") \n",
    "       \n",
    "    print()\n",
    "       \n",
    "    "
   ]
  },
  {
   "cell_type": "markdown",
   "metadata": {},
   "source": [
    "### Create the below pattern using nested while loop in Python."
   ]
  },
  {
   "cell_type": "code",
   "execution_count": 54,
   "metadata": {},
   "outputs": [
    {
     "name": "stdout",
     "output_type": "stream",
     "text": [
      "* \n",
      "* * \n",
      "* * * \n",
      "* * * * \n",
      "* * * * * \n",
      "* * * * \n",
      "* * * \n",
      "* * \n",
      "* \n"
     ]
    }
   ],
   "source": [
    "n=5\n",
    "i=1\n",
    "if i <= n :\n",
    "    while i <= n :\n",
    "        j = 1\n",
    "        while j <= i :\n",
    "            print('*',end = \" \")\n",
    "            j += 1\n",
    "        print()    \n",
    "        i += 1\n",
    "if i > n :\n",
    "    n=4\n",
    "    i=1\n",
    "    while i <= n :\n",
    "        j = n\n",
    "        while j >= i :\n",
    "            print('*',end = \" \")\n",
    "            j -= 1\n",
    "        print()    \n",
    "        i += 1\n"
   ]
  },
  {
   "cell_type": "markdown",
   "metadata": {},
   "source": [
    "### Write a Python program to reverse a word after accepting the input from the user."
   ]
  },
  {
   "cell_type": "code",
   "execution_count": 68,
   "metadata": {},
   "outputs": [
    {
     "name": "stdout",
     "output_type": "stream",
     "text": [
      "Name the Oragnisation : ineuron\n",
      "norueni\n"
     ]
    }
   ],
   "source": [
    "n1 = []\n",
    "name = input(\"Name the Oragnisation : \")\n",
    "for i in range(len(name),0,-1):\n",
    "    n1.append(name[i-1])\n",
    "print (''.join(n1))"
   ]
  },
  {
   "cell_type": "code",
   "execution_count": null,
   "metadata": {},
   "outputs": [],
   "source": []
  }
 ],
 "metadata": {
  "kernelspec": {
   "display_name": "Python 3",
   "language": "python",
   "name": "python3"
  },
  "language_info": {
   "codemirror_mode": {
    "name": "ipython",
    "version": 3
   },
   "file_extension": ".py",
   "mimetype": "text/x-python",
   "name": "python",
   "nbconvert_exporter": "python",
   "pygments_lexer": "ipython3",
   "version": "3.8.3"
  }
 },
 "nbformat": 4,
 "nbformat_minor": 4
}
