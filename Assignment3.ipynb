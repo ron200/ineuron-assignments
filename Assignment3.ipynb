{
 "cells": [
  {
   "cell_type": "markdown",
   "metadata": {},
   "source": [
    "### Write a Python Program to implement your own myreduce() function which works exactly like Python's built-in function reduce()"
   ]
  },
  {
   "cell_type": "code",
   "execution_count": 155,
   "metadata": {},
   "outputs": [],
   "source": [
    "def add(x=0,y=0):\n",
    "    tot = x + y\n",
    "    return tot\n",
    "\n",
    "\n",
    "def myreduce(func,lst):\n",
    "    res = 0\n",
    "    #res = func(lst[0],res)\n",
    "    for i in range(len(lst)):\n",
    "        res = func(lst[i-1],res)\n",
    "        \n",
    "    return res  "
   ]
  },
  {
   "cell_type": "code",
   "execution_count": 156,
   "metadata": {},
   "outputs": [
    {
     "name": "stdout",
     "output_type": "stream",
     "text": [
      "26\n"
     ]
    }
   ],
   "source": [
    "var=[2,4,5,7,8]\n",
    "\n",
    "print(myreduce(add,var))\n"
   ]
  },
  {
   "cell_type": "markdown",
   "metadata": {},
   "source": [
    "### Write a Python program to implement your own myfilter() function which works exactly like Python's built-in function filter()"
   ]
  },
  {
   "cell_type": "code",
   "execution_count": 170,
   "metadata": {},
   "outputs": [],
   "source": [
    "def func_chk(x=0):\n",
    "    if x < 18:\n",
    "        return False\n",
    "    else:\n",
    "        return True\n",
    "\n",
    "\n",
    "def myfilter(func,lst):\n",
    "    seq = []\n",
    "    for i in range(len(lst)):\n",
    "        res = func(lst[i-1])\n",
    "        if res == True:\n",
    "            seq.append(lst[i-1])\n",
    "    return seq        "
   ]
  },
  {
   "cell_type": "code",
   "execution_count": 174,
   "metadata": {},
   "outputs": [
    {
     "name": "stdout",
     "output_type": "stream",
     "text": [
      "[34, 56, 78, 65, 43]\n"
     ]
    }
   ],
   "source": [
    "var=[2,4,5,7,8,34,56,12,4,78,65,43,14,9]\n",
    "\n",
    "print(myfilter(func_chk,var))"
   ]
  },
  {
   "cell_type": "markdown",
   "metadata": {},
   "source": [
    "### Implement List comprehensions to produce the following lists."
   ]
  },
  {
   "cell_type": "code",
   "execution_count": 153,
   "metadata": {},
   "outputs": [
    {
     "name": "stdout",
     "output_type": "stream",
     "text": [
      "['x', 'xx', 'xxx', 'xxxx', 'y', 'yy', 'yyy', 'yyyy', 'z', 'zz', 'zzz', 'zzzz']\n",
      "['x', 'y', 'z', 'xx', 'yy', 'zz', 'xxx', 'yyy', 'zzz', 'xxxx', 'yyyy', 'zzzz']\n",
      "[[2], [3], [4], [3], [4], [5], [4], [5], [6], [2, 3, 4, 5], [3, 4, 5, 6]]\n",
      "[[4, 5, 6, 7], [5, 6, 7, 8]]\n",
      "[(1, 1), (1, 2), (1, 3), (2, 1), (2, 2), (2, 3), (3, 1), (3, 2), (3, 3)]\n"
     ]
    }
   ],
   "source": [
    "var = 'x'\n",
    "var1 = 'y'\n",
    "var2 = 'z'\n",
    "x = [var*x for x in range(1,5)]\n",
    "y = [var1*x for x in range(1,5)]\n",
    "z = [var2*x for x in range(1,5)]\n",
    "final = x+y+z\n",
    "print(final)\n",
    "\n",
    "final1 = [final[x] for x in range(0,len(final),4)]\n",
    "final2 = [final[x] for x in range(1,len(final),4)]\n",
    "final3 = [final[x] for x in range(2,len(final),4)]\n",
    "final4 = [final[x] for x in range(3,len(final),4)]\n",
    "final = final1+final2+final3+final4\n",
    "print (final)\n",
    "\n",
    "res = [[x] for x in range(2,5,1)]\n",
    "res1 = [[x] for x in range(3,6,1)]\n",
    "res2 = [[x] for x in range(4,7,1)]\n",
    "res3 = [x for x in range(2,6)]\n",
    "res4 = [x for x in range(3,7)]\n",
    "final=res+res1+res2+[res3]+[res4]\n",
    "print(final)\n",
    "\n",
    "res = [x for x in range(4,8)]\n",
    "res1 = [x for x in range(5,9)]\n",
    "final=[res]+[res1]\n",
    "print(final)\n",
    "\n",
    "res = [(x,y) for x in range(1,4) for y in range(1,4)]\n",
    "print(res)\n"
   ]
  },
  {
   "cell_type": "code",
   "execution_count": null,
   "metadata": {},
   "outputs": [],
   "source": []
  }
 ],
 "metadata": {
  "kernelspec": {
   "display_name": "Python 3",
   "language": "python",
   "name": "python3"
  },
  "language_info": {
   "codemirror_mode": {
    "name": "ipython",
    "version": 3
   },
   "file_extension": ".py",
   "mimetype": "text/x-python",
   "name": "python",
   "nbconvert_exporter": "python",
   "pygments_lexer": "ipython3",
   "version": "3.8.3"
  }
 },
 "nbformat": 4,
 "nbformat_minor": 4
}
